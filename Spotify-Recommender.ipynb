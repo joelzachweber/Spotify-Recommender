{
 "cells": [
  {
   "cell_type": "markdown",
   "metadata": {},
   "source": [
    "Spotify uses AI to recommend music to its users. You can try building a recommender system based on publicly available data on Spotify.\n",
    "Spotify has an API that you can use to retrieve audio data — you can find features like the year of release, key, popularity, and artist. To access this API in Python, you can use a library called Spotipy.\n",
    "You can also use the Spotify dataset on Kaggle that has around 600K rows. Using these datasets, you can suggest the best alternative to each user’s favourite musician. You can also come up with song recommendations based on the content and genre preferred by each user.\n",
    "This recommender system can be built using K-Means clustering — similar data points will be grouped. You can recommend songs with a minimal intra-cluster distance between them to the end-user.\n",
    "Once you have built the recommender system, you can also turn it into a simple Python app and deploy it. You can get users to enter their favourite songs on Spotify, then display your model recommendations on the screen that have the highest similarity to the songs they enjoyed."
   ]
  }
 ],
 "metadata": {
  "kernelspec": {
   "display_name": "Python 3",
   "language": "python",
   "name": "python3"
  },
  "language_info": {
   "codemirror_mode": {
    "name": "ipython",
    "version": 3
   },
   "file_extension": ".py",
   "mimetype": "text/x-python",
   "name": "python",
   "nbconvert_exporter": "python",
   "pygments_lexer": "ipython3",
   "version": "3.7.6"
  }
 },
 "nbformat": 4,
 "nbformat_minor": 4
}
